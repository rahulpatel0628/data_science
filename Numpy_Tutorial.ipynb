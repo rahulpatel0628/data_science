{
 "cells": [
  {
   "cell_type": "markdown",
   "id": "b0ec00e6",
   "metadata": {},
   "source": [
    "# NumPy Tutorial: From Basic to Advanced\n",
    "\n",
    "## Introduction to NumPy\n",
    "\n",
    "NumPy (Numerical Python) is the fundamental package for scientific computing in Python. It provides:\n",
    "\n",
    "- A powerful N-dimensional array object\n",
    "- Sophisticated (broadcasting) functions\n",
    "- Tools for integrating C/C++ and Fortran code\n",
    "- Useful linear algebra, Fourier transform, and random number capabilities\n",
    "\n",
    "### Installation\n",
    "\n",
    "To install NumPy, run the following command in your terminal or notebook:\n",
    "\n",
    "```python\n",
    "!pip install numpy"
   ]
  },
  {
   "cell_type": "markdown",
   "id": "2466f477",
   "metadata": {},
   "source": [
    "### 1. Basic NumPy Operations\n",
    "- Importing NumPy\n",
    "- All NumPy functions are typically imported under the np alias:"
   ]
  },
  {
   "cell_type": "code",
   "execution_count": 3,
   "id": "dbd22714",
   "metadata": {},
   "outputs": [],
   "source": [
    "import numpy as np"
   ]
  },
  {
   "cell_type": "markdown",
   "id": "b45920c9",
   "metadata": {},
   "source": [
    "### Creating Arrays\n",
    "- NumPy's main object is the homogeneous multidimensional array (called ndarray)."
   ]
  },
  {
   "cell_type": "code",
   "execution_count": 4,
   "id": "594ed4ae",
   "metadata": {},
   "outputs": [
    {
     "name": "stdout",
     "output_type": "stream",
     "text": [
      "1D Array:\n",
      "[1 2 3 4 5]\n",
      "\n",
      "2D Array:\n",
      "[[1 2 3]\n",
      " [4 5 6]]\n",
      "\n",
      "3D Array:\n",
      "[[[1 2]\n",
      "  [3 4]]\n",
      "\n",
      " [[5 6]\n",
      "  [7 8]]]\n"
     ]
    }
   ],
   "source": [
    "# 1D array\n",
    "arr1d = np.array([1, 2, 3, 4, 5])\n",
    "print(\"1D Array:\")\n",
    "print(arr1d)\n",
    "\n",
    "# 2D array (matrix)\n",
    "arr2d = np.array([[1, 2, 3], [4, 5, 6]])\n",
    "print(\"\\n2D Array:\")\n",
    "print(arr2d)\n",
    "\n",
    "# 3D array\n",
    "arr3d = np.array([[[1, 2], [3, 4]], [[5, 6], [7, 8]]])\n",
    "print(\"\\n3D Array:\")\n",
    "print(arr3d)"
   ]
  },
  {
   "cell_type": "markdown",
   "id": "b8967c9a",
   "metadata": {},
   "source": [
    "### Array Attributes\n",
    "- NumPy arrays have several important attributes:"
   ]
  },
  {
   "cell_type": "code",
   "execution_count": 5,
   "id": "80e6e057",
   "metadata": {},
   "outputs": [
    {
     "name": "stdout",
     "output_type": "stream",
     "text": [
      "Shape: (2, 3)\n",
      "Number of dimensions: 2\n",
      "Total elements: 6\n",
      "Data type: int32\n",
      "Item size (bytes): 4\n"
     ]
    }
   ],
   "source": [
    "a = np.array([[1, 2, 3], [4, 5, 6]])\n",
    "\n",
    "print(\"Shape:\", a.shape)    # Dimensions of the array\n",
    "print(\"Number of dimensions:\", a.ndim)     \n",
    "print(\"Total elements:\", a.size)     \n",
    "print(\"Data type:\", a.dtype)    \n",
    "print(\"Item size (bytes):\", a.itemsize)"
   ]
  },
  {
   "cell_type": "markdown",
   "id": "d112573f",
   "metadata": {},
   "source": [
    "### Special Arrays\n",
    "- NumPy provides functions to create special arrays:"
   ]
  },
  {
   "cell_type": "code",
   "execution_count": 6,
   "id": "3676b012",
   "metadata": {},
   "outputs": [
    {
     "name": "stdout",
     "output_type": "stream",
     "text": [
      "Zeros array:\n",
      "[[0. 0. 0.]\n",
      " [0. 0. 0.]]\n",
      "\n",
      "Ones array:\n",
      "[[1. 1.]\n",
      " [1. 1.]\n",
      " [1. 1.]]\n",
      "\n",
      "Identity matrix:\n",
      "[[1. 0. 0.]\n",
      " [0. 1. 0.]\n",
      " [0. 0. 1.]]\n",
      "\n",
      "Range array:\n",
      "[0 2 4 6 8]\n",
      "\n",
      "Linspace array:\n",
      "[0.   0.25 0.5  0.75 1.  ]\n",
      "\n",
      "Random array:\n",
      "[[0.35960502 0.49775543]\n",
      " [0.30204535 0.17711659]]\n"
     ]
    }
   ],
   "source": [
    "# Array of zeros\n",
    "zeros = np.zeros((2, 3))\n",
    "print(\"Zeros array:\")\n",
    "print(zeros)\n",
    "\n",
    "# Array of ones\n",
    "ones = np.ones((3, 2))\n",
    "print(\"\\nOnes array:\")\n",
    "print(ones)\n",
    "\n",
    "# Identity matrix\n",
    "identity = np.eye(3)\n",
    "print(\"\\nIdentity matrix:\")\n",
    "print(identity)\n",
    "\n",
    "# Array with a range\n",
    "range_arr = np.arange(0, 10, 2)  # start, stop, step\n",
    "print(\"\\nRange array:\")\n",
    "print(range_arr)\n",
    "\n",
    "# Linearly spaced array\n",
    "linspace_arr = np.linspace(0, 1, 5)  # start, stop, num_points\n",
    "print(\"\\nLinspace array:\")\n",
    "print(linspace_arr)\n",
    "\n",
    "# Random array\n",
    "random_arr = np.random.random((2, 2))\n",
    "print(\"\\nRandom array:\")\n",
    "print(random_arr)"
   ]
  },
  {
   "cell_type": "markdown",
   "id": "51a739a4",
   "metadata": {},
   "source": [
    "# 2. Array Operations\n"
   ]
  },
  {
   "cell_type": "markdown",
   "id": "3135342c",
   "metadata": {},
   "source": [
    "### Basic Arithmetic\n",
    "- NumPy arrays support element-wise operations:"
   ]
  },
  {
   "cell_type": "code",
   "execution_count": 7,
   "id": "44093df3",
   "metadata": {},
   "outputs": [
    {
     "name": "stdout",
     "output_type": "stream",
     "text": [
      "Addition: [5 7 9]\n",
      "Subtraction: [-3 -3 -3]\n",
      "Element-wise multiplication: [ 4 10 18]\n",
      "Division: [0.25 0.4  0.5 ]\n",
      "Exponentiation: [1 4 9]\n"
     ]
    }
   ],
   "source": [
    "a = np.array([1, 2, 3])\n",
    "b = np.array([4, 5, 6])\n",
    "\n",
    "print(\"Addition:\", a + b)\n",
    "print(\"Subtraction:\", a - b)\n",
    "print(\"Element-wise multiplication:\", a * b)\n",
    "print(\"Division:\", a / b)\n",
    "print(\"Exponentiation:\", a ** 2)"
   ]
  },
  {
   "cell_type": "markdown",
   "id": "94e4b5eb",
   "metadata": {},
   "source": [
    "### Dot Product\n",
    "- The dot product can be calculated using np.dot() or the @ operator:"
   ]
  },
  {
   "cell_type": "code",
   "execution_count": 8,
   "id": "3d70c94b",
   "metadata": {},
   "outputs": [
    {
     "name": "stdout",
     "output_type": "stream",
     "text": [
      "Dot product: 32\n",
      "Alternative syntax: 32\n"
     ]
    }
   ],
   "source": [
    "print(\"Dot product:\", np.dot(a, b))\n",
    "print(\"Alternative syntax:\", a @ b)"
   ]
  },
  {
   "cell_type": "markdown",
   "id": "35c93d71",
   "metadata": {},
   "source": [
    "# Matrix Multiplication\n",
    "- For matrix multiplication (not element-wise):"
   ]
  },
  {
   "cell_type": "code",
   "execution_count": 9,
   "id": "02c8cc68",
   "metadata": {},
   "outputs": [
    {
     "name": "stdout",
     "output_type": "stream",
     "text": [
      "Matrix multiplication:\n",
      "[[19 22]\n",
      " [43 50]]\n"
     ]
    }
   ],
   "source": [
    "A = np.array([[1, 2], [3, 4]])\n",
    "B = np.array([[5, 6], [7, 8]])\n",
    "\n",
    "print(\"Matrix multiplication:\")\n",
    "print(A @ B)"
   ]
  },
  {
   "cell_type": "markdown",
   "id": "326177aa",
   "metadata": {},
   "source": [
    "## Universal Functions (ufunc)\n",
    "- NumPy provides many mathematical functions that operate element-wise:"
   ]
  },
  {
   "cell_type": "code",
   "execution_count": 10,
   "id": "72d45faa",
   "metadata": {},
   "outputs": [
    {
     "name": "stdout",
     "output_type": "stream",
     "text": [
      "Square roots: [1.         1.41421356 1.73205081]\n",
      "Exponentials: [ 2.71828183  7.3890561  20.08553692]\n",
      "Sines: [0.84147098 0.90929743 0.14112001]\n",
      "Natural logs: [0.         0.69314718 1.09861229]\n"
     ]
    }
   ],
   "source": [
    "print(\"Square roots:\", np.sqrt(a))\n",
    "print(\"Exponentials:\", np.exp(a))\n",
    "print(\"Sines:\", np.sin(a))\n",
    "print(\"Natural logs:\", np.log(a))"
   ]
  },
  {
   "cell_type": "markdown",
   "id": "b2ec4b89",
   "metadata": {},
   "source": [
    "# 3. Indexing and Slicing"
   ]
  },
  {
   "cell_type": "markdown",
   "id": "90f6f3f0",
   "metadata": {},
   "source": [
    "# 1D Arrays\n",
    "- Indexing works similarly to Python lists:"
   ]
  },
  {
   "cell_type": "code",
   "execution_count": 11,
   "id": "dfe4e3d3",
   "metadata": {},
   "outputs": [
    {
     "name": "stdout",
     "output_type": "stream",
     "text": [
      "Element at index 3: 3\n",
      "Slice from index 2 to 5: [2 3 4]\n",
      "First 5 elements: [0 1 2 3 4]\n",
      "Elements from index 5 onward: [5 6 7 8 9]\n",
      "Every second element: [0 2 4 6 8]\n",
      "Reversed array: [9 8 7 6 5 4 3 2 1 0]\n"
     ]
    }
   ],
   "source": [
    "arr = np.array([0, 1, 2, 3, 4, 5, 6, 7, 8, 9])\n",
    "\n",
    "print(\"Element at index 3:\", arr[3])\n",
    "print(\"Slice from index 2 to 5:\", arr[2:5])\n",
    "print(\"First 5 elements:\", arr[:5])\n",
    "print(\"Elements from index 5 onward:\", arr[5:])\n",
    "print(\"Every second element:\", arr[::2])\n",
    "print(\"Reversed array:\", arr[::-1])"
   ]
  },
  {
   "cell_type": "markdown",
   "id": "0ea0bb8e",
   "metadata": {},
   "source": [
    "# 2D Arrays\n",
    "- For multidimensional arrays, use comma-separated indices:"
   ]
  },
  {
   "cell_type": "code",
   "execution_count": 12,
   "id": "baecb47b",
   "metadata": {},
   "outputs": [
    {
     "name": "stdout",
     "output_type": "stream",
     "text": [
      "Element at row 0, column 1: 2\n",
      "All rows, column 1: [2 5 8]\n",
      "Rows from 1 onward, first two columns: [[4 5]\n",
      " [7 8]]\n"
     ]
    }
   ],
   "source": [
    "arr = np.array([[1, 2, 3], [4, 5, 6], [7, 8, 9]])\n",
    "\n",
    "print(\"Element at row 0, column 1:\", arr[0, 1])\n",
    "print(\"All rows, column 1:\", arr[:, 1])\n",
    "print(\"Rows from 1 onward, first two columns:\", arr[1:, :2])"
   ]
  },
  {
   "cell_type": "markdown",
   "id": "23752fbc",
   "metadata": {},
   "source": [
    "# Boolean Indexing\n",
    "- You can use boolean conditions to index arrays:"
   ]
  },
  {
   "cell_type": "code",
   "execution_count": 14,
   "id": "e1f13049",
   "metadata": {},
   "outputs": [
    {
     "name": "stdout",
     "output_type": "stream",
     "text": [
      "Elements greater than 3: [4 5 6]\n",
      "Elements between 2 and 5: [3 4]\n"
     ]
    }
   ],
   "source": [
    "arr = np.array([1, 2, 3, 4, 5, 6])\n",
    "\n",
    "print(\"Elements greater than 3:\", arr[arr > 3])\n",
    "print(\"Elements between 2 and 5:\", arr[(arr > 2) & (arr < 5)])"
   ]
  },
  {
   "cell_type": "markdown",
   "id": "95fa31b8",
   "metadata": {},
   "source": [
    "# 4. Array Manipulation"
   ]
  },
  {
   "cell_type": "markdown",
   "id": "7cbec069",
   "metadata": {},
   "source": [
    "\n",
    "# Reshaping\n",
    "- Change the shape of an array without changing its data:"
   ]
  },
  {
   "cell_type": "code",
   "execution_count": 15,
   "id": "4a115e46",
   "metadata": {},
   "outputs": [
    {
     "name": "stdout",
     "output_type": "stream",
     "text": [
      "Reshaped to 3x4:\n",
      "[[ 0  1  2  3]\n",
      " [ 4  5  6  7]\n",
      " [ 8  9 10 11]]\n",
      "\n",
      "Reshaped to 2x3x2:\n",
      "[[[ 0  1]\n",
      "  [ 2  3]\n",
      "  [ 4  5]]\n",
      "\n",
      " [[ 6  7]\n",
      "  [ 8  9]\n",
      "  [10 11]]]\n"
     ]
    }
   ],
   "source": [
    "arr = np.arange(12)\n",
    "\n",
    "print(\"Reshaped to 3x4:\")\n",
    "print(arr.reshape(3, 4))\n",
    "\n",
    "print(\"\\nReshaped to 2x3x2:\")\n",
    "print(arr.reshape(2, 3, 2))"
   ]
  },
  {
   "cell_type": "markdown",
   "id": "d0e867e8",
   "metadata": {},
   "source": [
    "# Flattening\n",
    "- Convert multidimensional arrays to 1D:"
   ]
  },
  {
   "cell_type": "code",
   "execution_count": 16,
   "id": "5c9c75bc",
   "metadata": {},
   "outputs": [
    {
     "name": "stdout",
     "output_type": "stream",
     "text": [
      "Flattened array (copy): [1 2 3 4 5 6]\n",
      "Raveled array (view if possible): [1 2 3 4 5 6]\n"
     ]
    }
   ],
   "source": [
    "arr = np.array([[1, 2, 3], [4, 5, 6]])\n",
    "\n",
    "print(\"Flattened array (copy):\", arr.flatten())\n",
    "print(\"Raveled array (view if possible):\", arr.ravel())"
   ]
  },
  {
   "cell_type": "markdown",
   "id": "98728503",
   "metadata": {},
   "source": [
    "# Concatenation\n",
    "- Combine arrays along existing axes:"
   ]
  },
  {
   "cell_type": "code",
   "execution_count": 17,
   "id": "3aead26d",
   "metadata": {},
   "outputs": [
    {
     "name": "stdout",
     "output_type": "stream",
     "text": [
      "Vertical stack:\n",
      "[[1 2]\n",
      " [3 4]\n",
      " [5 6]]\n",
      "\n",
      "Horizontal stack:\n",
      "[[1 2 7]\n",
      " [3 4 8]]\n"
     ]
    }
   ],
   "source": [
    "a = np.array([[1, 2], [3, 4]])\n",
    "b = np.array([[5, 6]])\n",
    "\n",
    "print(\"Vertical stack:\")\n",
    "print(np.vstack((a, b)))\n",
    "\n",
    "c = np.array([[7], [8]])\n",
    "print(\"\\nHorizontal stack:\")\n",
    "print(np.hstack((a, c)))"
   ]
  },
  {
   "cell_type": "markdown",
   "id": "24d17251",
   "metadata": {},
   "source": [
    "# Splitting\n",
    "- Divide arrays into multiple sub-arrays:"
   ]
  },
  {
   "cell_type": "code",
   "execution_count": 18,
   "id": "35073bf2",
   "metadata": {},
   "outputs": [
    {
     "name": "stdout",
     "output_type": "stream",
     "text": [
      "Split vertically:\n",
      "[array([[0, 1, 2, 3]]), array([[4, 5, 6, 7]]), array([[ 8,  9, 10, 11]])]\n",
      "\n",
      "Split horizontally:\n",
      "[array([[0, 1],\n",
      "       [4, 5],\n",
      "       [8, 9]]), array([[ 2,  3],\n",
      "       [ 6,  7],\n",
      "       [10, 11]])]\n"
     ]
    }
   ],
   "source": [
    "arr = np.arange(12).reshape(3, 4)\n",
    "\n",
    "print(\"Split vertically:\")\n",
    "print(np.split(arr, 3))\n",
    "\n",
    "print(\"\\nSplit horizontally:\")\n",
    "print(np.hsplit(arr, 2))"
   ]
  },
  {
   "cell_type": "markdown",
   "id": "0985bb97",
   "metadata": {},
   "source": [
    "# 5. Advanced NumPy Operations"
   ]
  },
  {
   "cell_type": "markdown",
   "id": "10f40178",
   "metadata": {},
   "source": [
    "\n",
    "# Broadcasting\n",
    "- NumPy's broadcasting allows operations on arrays of different shapes:"
   ]
  },
  {
   "cell_type": "code",
   "execution_count": 19,
   "id": "a07a20ee",
   "metadata": {},
   "outputs": [
    {
     "name": "stdout",
     "output_type": "stream",
     "text": [
      "Broadcasted addition:\n",
      "[[11 22 33]\n",
      " [14 25 36]]\n"
     ]
    }
   ],
   "source": [
    "a = np.array([[1, 2, 3], [4, 5, 6]])\n",
    "b = np.array([10, 20, 30])\n",
    "\n",
    "print(\"Broadcasted addition:\")\n",
    "print(a + b)"
   ]
  },
  {
   "cell_type": "markdown",
   "id": "2bfefde6",
   "metadata": {},
   "source": [
    "# Vectorization\n",
    "- Vectorized operations are faster than Python loops:"
   ]
  },
  {
   "cell_type": "code",
   "execution_count": 20,
   "id": "fd9fda53",
   "metadata": {},
   "outputs": [
    {
     "name": "stdout",
     "output_type": "stream",
     "text": [
      "348 ms ± 23.5 ms per loop (mean ± std. dev. of 7 runs, 1 loop each)\n",
      "3.75 ms ± 20.6 µs per loop (mean ± std. dev. of 7 runs, 100 loops each)\n"
     ]
    }
   ],
   "source": [
    "# Non-vectorized approach\n",
    "def slow_add(a, b):\n",
    "    result = np.empty(len(a))\n",
    "    for i in range(len(a)):\n",
    "        result[i] = a[i] + b[i]\n",
    "    return result\n",
    "\n",
    "# Vectorized approach\n",
    "def fast_add(a, b):\n",
    "    return a + b\n",
    "\n",
    "# Compare performance\n",
    "large_a = np.random.rand(1000000)\n",
    "large_b = np.random.rand(1000000)\n",
    "\n",
    "%timeit slow_add(large_a, large_b)\n",
    "%timeit fast_add(large_a, large_b)"
   ]
  },
  {
   "cell_type": "markdown",
   "id": "283deb6d",
   "metadata": {},
   "source": [
    "# Saving and Loading Arrays\n",
    "- NumPy provides efficient I/O functions:"
   ]
  },
  {
   "cell_type": "code",
   "execution_count": 21,
   "id": "9f079c79",
   "metadata": {},
   "outputs": [
    {
     "name": "stdout",
     "output_type": "stream",
     "text": [
      "Original array: [0 1 2 3 4 5 6 7 8 9]\n",
      "Loaded from .npy: [0 1 2 3 4 5 6 7 8 9]\n",
      "Loaded from .txt: [0. 1. 2. 3. 4. 5. 6. 7. 8. 9.]\n"
     ]
    }
   ],
   "source": [
    "arr = np.arange(10)\n",
    "\n",
    "# Save to binary file\n",
    "np.save('my_array.npy', arr)\n",
    "\n",
    "# Load from binary file\n",
    "loaded_arr = np.load('my_array.npy')\n",
    "\n",
    "# Save to text file\n",
    "np.savetxt('my_array.txt', arr)\n",
    "\n",
    "# Load from text file\n",
    "loaded_txt = np.loadtxt('my_array.txt')\n",
    "\n",
    "print(\"Original array:\", arr)\n",
    "print(\"Loaded from .npy:\", loaded_arr)\n",
    "print(\"Loaded from .txt:\", loaded_txt)"
   ]
  },
  {
   "cell_type": "markdown",
   "id": "88f0f272",
   "metadata": {},
   "source": [
    "# 6. Linear Algebra with NumPy\n",
    "- NumPy's linalg module provides linear algebra operations:"
   ]
  },
  {
   "cell_type": "code",
   "execution_count": 22,
   "id": "a78f3c61",
   "metadata": {},
   "outputs": [
    {
     "name": "stdout",
     "output_type": "stream",
     "text": [
      "Determinant: -2.0000000000000004\n",
      "\n",
      "Inverse:\n",
      "[[-2.   1. ]\n",
      " [ 1.5 -0.5]]\n",
      "\n",
      "Eigenvalues and eigenvectors:\n",
      "Eigenvalues: [-0.37228132  5.37228132]\n",
      "Eigenvectors:\n",
      "[[-0.82456484 -0.41597356]\n",
      " [ 0.56576746 -0.90937671]]\n",
      "\n",
      "Solution to linear equations:\n",
      "[-4.   4.5]\n"
     ]
    }
   ],
   "source": [
    "from numpy import linalg\n",
    "\n",
    "A = np.array([[1, 2], [3, 4]])\n",
    "\n",
    "print(\"Determinant:\", linalg.det(A))\n",
    "print(\"\\nInverse:\")\n",
    "print(linalg.inv(A))\n",
    "\n",
    "print(\"\\nEigenvalues and eigenvectors:\")\n",
    "eigenvalues, eigenvectors = linalg.eig(A)\n",
    "print(\"Eigenvalues:\", eigenvalues)\n",
    "print(\"Eigenvectors:\")\n",
    "print(eigenvectors)\n",
    "\n",
    "# Solve linear equations\n",
    "B = np.array([5, 6])\n",
    "print(\"\\nSolution to linear equations:\")\n",
    "print(linalg.solve(A, B))"
   ]
  },
  {
   "cell_type": "markdown",
   "id": "a3768881",
   "metadata": {},
   "source": [
    "# 7. Random Module\n",
    " - NumPy's random module provides various distributions:"
   ]
  },
  {
   "cell_type": "code",
   "execution_count": 23,
   "id": "fc0b182a",
   "metadata": {},
   "outputs": [
    {
     "name": "stdout",
     "output_type": "stream",
     "text": [
      "Random 3x2 array:\n",
      "[[0.45668589 0.88793494]\n",
      " [0.80682843 0.56566332]\n",
      " [0.62203752 0.85076104]]\n",
      "\n",
      "Random integers (0-9):\n",
      "[[8 8 2]\n",
      " [5 7 3]]\n",
      "\n",
      "Normal distribution samples:\n",
      "[ 0.50650435  1.14021489 -0.50356883  0.48890505 -0.40008466]\n",
      "\n",
      "Shuffled array:\n",
      "[6 3 1 0 4 2 9 5 7 8]\n"
     ]
    }
   ],
   "source": [
    "# Random numbers between 0 and 1\n",
    "print(\"Random 3x2 array:\")\n",
    "print(np.random.rand(3, 2))\n",
    "\n",
    "# Random integers\n",
    "print(\"\\nRandom integers (0-9):\")\n",
    "print(np.random.randint(0, 10, size=(2, 3)))\n",
    "\n",
    "# Normal distribution\n",
    "print(\"\\nNormal distribution samples:\")\n",
    "print(np.random.normal(0, 1, 5))\n",
    "\n",
    "# Shuffle array\n",
    "arr = np.arange(10)\n",
    "np.random.shuffle(arr)\n",
    "print(\"\\nShuffled array:\")\n",
    "print(arr)"
   ]
  },
  {
   "cell_type": "markdown",
   "id": "9cd6254c",
   "metadata": {},
   "source": [
    "# 8. Performance Tips\n",
    "# Pre-allocation\n",
    "- Pre-allocate arrays for better performance:"
   ]
  },
  {
   "cell_type": "code",
   "execution_count": 24,
   "id": "27394066",
   "metadata": {},
   "outputs": [],
   "source": [
    "# Bad approach (growing array)\n",
    "result = np.array([])\n",
    "for i in range(1000):\n",
    "    result = np.append(result, i)\n",
    "\n",
    "# Good approach (pre-allocated)\n",
    "result = np.empty(1000)\n",
    "for i in range(1000):\n",
    "    result[i] = i"
   ]
  },
  {
   "cell_type": "markdown",
   "id": "c66870ed",
   "metadata": {},
   "source": [
    "# Vectorized Operations\n",
    "- Avoid explicit loops when possible:"
   ]
  },
  {
   "cell_type": "code",
   "execution_count": 25,
   "id": "cf39c531",
   "metadata": {},
   "outputs": [
    {
     "name": "stdout",
     "output_type": "stream",
     "text": [
      "291 ms ± 17.5 ms per loop (mean ± std. dev. of 7 runs, 1 loop each)\n",
      "3.31 ms ± 62.6 µs per loop (mean ± std. dev. of 7 runs, 100 loops each)\n"
     ]
    }
   ],
   "source": [
    "# Bad (explicit loop)\n",
    "def slow_square(arr):\n",
    "    result = np.empty(len(arr))\n",
    "    for i in range(len(arr)):\n",
    "        result[i] = arr[i] ** 2\n",
    "    return result\n",
    "\n",
    "# Good (vectorized)\n",
    "def fast_square(arr):\n",
    "    return arr ** 2\n",
    "\n",
    "# Compare\n",
    "large_arr = np.random.rand(1000000)\n",
    "%timeit slow_square(large_arr)\n",
    "%timeit fast_square(large_arr)"
   ]
  },
  {
   "cell_type": "markdown",
   "id": "8cb4f42e",
   "metadata": {},
   "source": [
    "# 9. Advanced Techniques"
   ]
  },
  {
   "cell_type": "markdown",
   "id": "304185d8",
   "metadata": {},
   "source": [
    "\n",
    "# Structured Arrays\n",
    "- Create arrays with compound data types:"
   ]
  },
  {
   "cell_type": "code",
   "execution_count": 27,
   "id": "e79f975f",
   "metadata": {},
   "outputs": [
    {
     "name": "stdout",
     "output_type": "stream",
     "text": [
      "Names: ['Alice' 'Bob']\n",
      "\n",
      "First record's age: 25\n"
     ]
    }
   ],
   "source": [
    "# Define data type\n",
    "dtype = [('name', 'U10'), ('age', 'i4'), ('height', 'f8')]\n",
    "\n",
    "# Create structured array\n",
    "data = np.array([('Alice', 25, 1.65), ('Bob', 30, 1.8)], dtype=dtype)\n",
    "\n",
    "# Access fields\n",
    "print(\"Names:\", data['name'])\n",
    "print(\"\\nFirst record's age:\", data[0]['age'])"
   ]
  },
  {
   "cell_type": "markdown",
   "id": "9e313fe3",
   "metadata": {},
   "source": [
    "# Masked Arrays\n",
    "- Handle missing or invalid data:"
   ]
  },
  {
   "cell_type": "code",
   "execution_count": 28,
   "id": "fa41e81c",
   "metadata": {},
   "outputs": [
    {
     "name": "stdout",
     "output_type": "stream",
     "text": [
      "Masked array:\n",
      "[1 2 3 -- 5]\n",
      "\n",
      "Mean (ignoring masked values): 2.75\n"
     ]
    }
   ],
   "source": [
    "import numpy.ma as ma\n",
    "\n",
    "arr = np.array([1, 2, 3, -1, 5])\n",
    "masked_arr = ma.masked_where(arr < 0, arr)\n",
    "\n",
    "print(\"Masked array:\")\n",
    "print(masked_arr)\n",
    "print(\"\\nMean (ignoring masked values):\", masked_arr.mean())"
   ]
  }
 ],
 "metadata": {
  "kernelspec": {
   "display_name": "Python 3 (ipykernel)",
   "language": "python",
   "name": "python3"
  },
  "language_info": {
   "codemirror_mode": {
    "name": "ipython",
    "version": 3
   },
   "file_extension": ".py",
   "mimetype": "text/x-python",
   "name": "python",
   "nbconvert_exporter": "python",
   "pygments_lexer": "ipython3",
   "version": "3.11.5"
  }
 },
 "nbformat": 4,
 "nbformat_minor": 5
}
